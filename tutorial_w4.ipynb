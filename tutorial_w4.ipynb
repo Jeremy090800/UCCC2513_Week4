{
 "cells": [
  {
   "cell_type": "markdown",
   "id": "991c0a45",
   "metadata": {},
   "source": [
    "# Tutorial week 4 \n",
    "\n",
    "## Learning outcomes\n",
    "1. Brief walkthrough on GitHub.\n",
    "2. Python fundamentals: data types, custom function, Numpy.\n",
    "3. Gentle introduction to what is computer vision\n",
    "4. Read and save images\n",
    "5. Read and save videos.\n",
    "6. Basic operations on images\n",
    "7. Image resizing"
   ]
  },
  {
   "cell_type": "markdown",
   "id": "02c8c4c1",
   "metadata": {
    "slideshow": {
     "slide_type": "slide"
    }
   },
   "source": [
    "# Python fundamentals\n",
    "\n",
    "Let's learn some *basic Python syntax, data types, castings, lists, tuples and Numpy arrays*.\n",
    "## Python syntax"
   ]
  },
  {
   "cell_type": "code",
   "execution_count": 1,
   "id": "bf74d996",
   "metadata": {
    "slideshow": {
     "slide_type": "subslide"
    }
   },
   "outputs": [
    {
     "name": "stdout",
     "output_type": "stream",
     "text": [
      "Hello World\n"
     ]
    }
   ],
   "source": [
    "print(\"Hello World\")\n",
    "# You can comment in the codeblock using # at the front of each statement."
   ]
  },
  {
   "cell_type": "code",
   "execution_count": 2,
   "id": "a11fd6b2",
   "metadata": {
    "slideshow": {
     "slide_type": "subslide"
    }
   },
   "outputs": [],
   "source": [
    "# Docstring and functions\n",
    "def simple_add(x, y):\n",
    "    \"\"\" This function is for addition of two numbers, x and y.\n",
    "    \"\"\"\n",
    "    return(x+y)"
   ]
  },
  {
   "cell_type": "code",
   "execution_count": 3,
   "id": "e7435985",
   "metadata": {
    "slideshow": {
     "slide_type": "subslide"
    }
   },
   "outputs": [
    {
     "data": {
      "text/plain": [
       "5"
      ]
     },
     "execution_count": 3,
     "metadata": {},
     "output_type": "execute_result"
    }
   ],
   "source": [
    "simple_add(2, 3)"
   ]
  },
  {
   "cell_type": "markdown",
   "id": "04e05d4c",
   "metadata": {
    "slideshow": {
     "slide_type": "slide"
    }
   },
   "source": [
    "## Data types\n",
    "Includes but not limited to *integer, float point number, complex number*"
   ]
  },
  {
   "cell_type": "code",
   "execution_count": 4,
   "id": "e0967c3a",
   "metadata": {
    "slideshow": {
     "slide_type": "subslide"
    }
   },
   "outputs": [
    {
     "name": "stdout",
     "output_type": "stream",
     "text": [
      "<class 'int'>\n",
      "<class 'float'>\n",
      "<class 'complex'>\n",
      "<class 'str'>\n"
     ]
    }
   ],
   "source": [
    "x = 5\n",
    "y = 4.2\n",
    "z = 1j\n",
    "z1 = \"I am human\"\n",
    "\n",
    "print(type(x))\n",
    "print(type(y))\n",
    "print(type(z))\n",
    "print(type(z1))"
   ]
  },
  {
   "cell_type": "code",
   "execution_count": 5,
   "id": "d9a7b0bb",
   "metadata": {
    "slideshow": {
     "slide_type": "subslide"
    }
   },
   "outputs": [
    {
     "name": "stdout",
     "output_type": "stream",
     "text": [
      "0\n",
      "7.6\n"
     ]
    }
   ],
   "source": [
    "# We can do casting, specify the data type by these function int(), float(), str()\n",
    "y = 8/10\n",
    "z = \"7.6\"\n",
    "\n",
    "print(int(y))\n",
    "print(float(z))"
   ]
  },
  {
   "cell_type": "markdown",
   "id": "8b2d6339",
   "metadata": {
    "slideshow": {
     "slide_type": "slide"
    }
   },
   "source": [
    "## List and tuple\n",
    "List and tuple are both variables that can store multiple items. There are 2 major differences between the two:\n",
    "1. List is written with square brackets, while tuple is written with round brackets (parentheses).\n",
    "2. List is changeable, while tuple is unchangeable."
   ]
  },
  {
   "cell_type": "code",
   "execution_count": 6,
   "id": "9e170e16",
   "metadata": {
    "slideshow": {
     "slide_type": "slide"
    }
   },
   "outputs": [
    {
     "name": "stdout",
     "output_type": "stream",
     "text": [
      "['a', 'b', 'c']\n",
      "('a', 'b', 'c')\n"
     ]
    }
   ],
   "source": [
    "mylist = [\"a\", \"b\", \"c\"]\n",
    "print(mylist)\n",
    "\n",
    "mytuple = (\"a\", \"b\", \"c\")\n",
    "print(mytuple)"
   ]
  },
  {
   "cell_type": "code",
   "execution_count": 7,
   "id": "d500f2bc",
   "metadata": {
    "slideshow": {
     "slide_type": "fragment"
    }
   },
   "outputs": [
    {
     "name": "stdout",
     "output_type": "stream",
     "text": [
      "[1, 'b', 'c']\n"
     ]
    }
   ],
   "source": [
    "mylist[0] = 1\n",
    "print(mylist)"
   ]
  },
  {
   "cell_type": "code",
   "execution_count": 8,
   "id": "20cbb4dc",
   "metadata": {
    "collapsed": true,
    "slideshow": {
     "slide_type": "fragment"
    }
   },
   "outputs": [
    {
     "ename": "TypeError",
     "evalue": "'tuple' object does not support item assignment",
     "output_type": "error",
     "traceback": [
      "\u001b[1;31m---------------------------------------------------------------------------\u001b[0m",
      "\u001b[1;31mTypeError\u001b[0m                                 Traceback (most recent call last)",
      "\u001b[1;32m~\\AppData\\Local\\Temp/ipykernel_11456/2453735110.py\u001b[0m in \u001b[0;36m<module>\u001b[1;34m\u001b[0m\n\u001b[1;32m----> 1\u001b[1;33m \u001b[0mmytuple\u001b[0m\u001b[1;33m[\u001b[0m\u001b[1;36m0\u001b[0m\u001b[1;33m]\u001b[0m \u001b[1;33m=\u001b[0m \u001b[1;36m1\u001b[0m\u001b[1;33m\u001b[0m\u001b[1;33m\u001b[0m\u001b[0m\n\u001b[0m",
      "\u001b[1;31mTypeError\u001b[0m: 'tuple' object does not support item assignment"
     ]
    }
   ],
   "source": [
    "mytuple[0] = 1"
   ]
  },
  {
   "cell_type": "markdown",
   "id": "d8d45558",
   "metadata": {
    "slideshow": {
     "slide_type": "slide"
    }
   },
   "source": [
    "## Numpy functions\n",
    "\n",
    "Numpy is a Python modules used for working with arrays. Numpy provides array object that is faster than Python lists. This is due to locality of reference. "
   ]
  },
  {
   "cell_type": "code",
   "execution_count": 9,
   "id": "e1ec5660",
   "metadata": {
    "slideshow": {
     "slide_type": "fragment"
    }
   },
   "outputs": [],
   "source": [
    "# First, import Numpy libraries\n",
    "import numpy as np"
   ]
  },
  {
   "cell_type": "code",
   "execution_count": 10,
   "id": "570a976f",
   "metadata": {
    "slideshow": {
     "slide_type": "fragment"
    }
   },
   "outputs": [
    {
     "name": "stdout",
     "output_type": "stream",
     "text": [
      "[1 2 3 4]\n",
      "<class 'numpy.ndarray'>\n"
     ]
    }
   ],
   "source": [
    "# Create Numpy array\n",
    "x = np.array([1, 2, 3, 4])\n",
    "print(x)\n",
    "print(type(x))"
   ]
  },
  {
   "cell_type": "code",
   "execution_count": 11,
   "id": "c4927734",
   "metadata": {
    "slideshow": {
     "slide_type": "slide"
    }
   },
   "outputs": [
    {
     "name": "stdout",
     "output_type": "stream",
     "text": [
      "1\n",
      "4\n"
     ]
    }
   ],
   "source": [
    "# Array indexing\n",
    "# first element of the array x and last element of x\n",
    "print(x[0])\n",
    "print(x[-1])"
   ]
  },
  {
   "cell_type": "code",
   "execution_count": 12,
   "id": "eb08a84c",
   "metadata": {
    "slideshow": {
     "slide_type": "fragment"
    }
   },
   "outputs": [
    {
     "name": "stdout",
     "output_type": "stream",
     "text": [
      "[1 2 3 4 5 6 7 8]\n"
     ]
    }
   ],
   "source": [
    "x1 = np.array([5, 6, 7, 8])\n",
    "x_long = np.concatenate((x, x1), axis = None)\n",
    "print(x_long)"
   ]
  },
  {
   "cell_type": "markdown",
   "id": "fff5f8b6",
   "metadata": {
    "slideshow": {
     "slide_type": "slide"
    }
   },
   "source": [
    "An ndarray is a generic multidimensional container for homogeneous data; that is, all of the elements must be the same type. Every array has a **shape**, a tuple indicating the size of each dimension, and a dtype, an object describing the **data type** of the array. "
   ]
  },
  {
   "cell_type": "code",
   "execution_count": 13,
   "id": "ecb397b3",
   "metadata": {
    "slideshow": {
     "slide_type": "fragment"
    }
   },
   "outputs": [
    {
     "name": "stdout",
     "output_type": "stream",
     "text": [
      "The shape of variable x_long: (8,)\n",
      "int32\n"
     ]
    }
   ],
   "source": [
    "print(f\"The shape of variable x_long: {x_long.shape}\")\n",
    "print(x_long.dtype)    # dtype attribute is especially useful for debugging purpose."
   ]
  },
  {
   "cell_type": "markdown",
   "id": "45a4cd63",
   "metadata": {
    "slideshow": {
     "slide_type": "slide"
    }
   },
   "source": [
    "### Exercises\n",
    "1. Try to write a simple custom function to determine whether a given integer is odd or even number.\n",
    "2. Write a simple example code to show that Numpy is more efficient in numerical computation of large arrays of data than equivalent Python list.\n",
    "3. Run the following codes:\n",
    "```python\n",
    "    my_arr = np.arange(10)\n",
    "    print(my_arr)\n",
    "    my_arr[4:7] = 25\n",
    "    print(my_arr)\n",
    "    arr_slice = my_arr[4:7]\n",
    "\n",
    "    # Change the first element of arr_slice to -1\n",
    "    arr_slice[0]= -1\n",
    "\n",
    "    print(arr_slice)\n",
    "    print(my_arr)\n",
    "```\n",
    "What do you notice? "
   ]
  },
  {
   "cell_type": "markdown",
   "id": "a2f5b2d3",
   "metadata": {
    "slideshow": {
     "slide_type": "slide"
    }
   },
   "source": [
    "# What is digital image processing / computer vision?\n",
    "\n",
    "As humans, we perceive the 3D structure of the world around us with ease. For example, looking at a framed group portrait, you can easily count and name all the people in the picture and even guess at their emotions from their facial expressions.\n",
    "\n",
    "Perceptual psychologists have spent decades trying to comprehend how visual system works and optical illusions have been discovered to solve the puzzle, a complete solution is still far beyond our reach. \n",
    "\n",
    "Computer vision / digital image processing is being utilized in diverse of real world applications:\n",
    "- Optical character recognition (OCR): reading handwritten postal codes on letters and automatic plate recognition.\n",
    "    ![OCR](image_embed/OCR.png \"OCR example\")\n",
    "- Medical imaging: registering pre-operative and intra-operative imagery or performing long term studies of internal organ.\n",
    "    ![medical imaging](image_embed/medical.png \"medical image\")\n",
    "- Self-driving vehicles.\n",
    "- Surveillance: monitoring for intruders, analyzing highway traffic and monitoring pools for drowning victims.\n",
    "- Fingerprint recognition and biometrics: automatic access authentication as well as forensic applications."
   ]
  },
  {
   "cell_type": "markdown",
   "id": "22f1314b",
   "metadata": {
    "slideshow": {
     "slide_type": "slide"
    }
   },
   "source": [
    "Consumer level applications include:\n",
    "- Stitching: turning overlapping photos into a seamlessly stitched panorama.\n",
    "    ![image stitching](image_embed/stitching.jfif \"stitching\")\n",
    "- Morphing: turning a picture of your friend into another.\n",
    "    ![blending](image_embed/blending.jfif \"blending\")\n",
    "- Face detection: for improved camera focusing as well as more relevant image searching.\n",
    "    ![face detection](image_embed/face_detection.jfif \"face_detection\")"
   ]
  },
  {
   "cell_type": "markdown",
   "id": "ece93ecf",
   "metadata": {
    "slideshow": {
     "slide_type": "slide"
    }
   },
   "source": [
    "# OpenCV in Python\n",
    "\n",
    "Setup procedure:\n",
    "1. Install Python and its IDE, preferably Jupyter notebook.\n",
    "2. Install OpenCV module by the following steps:\n",
    "    - Open cmd terminal and type in `pip install opencv-contrib-python`.\n",
    "3. Install *Numpy* and *matplotlib* modules.\n",
    "\n",
    "Before we jump into the codes, lets briefly walk through what is OpenCV. Created in 1999, OpenCV currently supports a lot of algorithms related to **Computer Vision** and **Machine Learning** and its is expanding day-by-day. OpenCV supports a wide variety of programming languages like C++, Python, Java etc and is available on different platforms like Windows, Linux and so on. OpenCV-Python is the Python API of OpenCV. It combines the best qualites of OpenCV C++ and Python language. How OpenCV-Python works? It is a *Python wrapper around original C++ implementation*. Another upside of using OpenCV-Python is that *OpenCV array structures are converted to and from Numpy arrays*. So whatever operations you can do in Numpy, you can combine it with OpenCV. All in all, OpenCV-Python is an appropriate tool for fast prototyping of computer vision problems."
   ]
  },
  {
   "cell_type": "markdown",
   "id": "85bb9bef",
   "metadata": {
    "slideshow": {
     "slide_type": "slide"
    }
   },
   "source": [
    "## Representation of an image in OpenCV and Numpy\n",
    "An image is a multidimensional array; it has columns and rows of pixels, and each pixel has a value. For different kinds of image data, the pixel value may be formatted in different ways. We can create a 3x3 square black image from scratch by simply creating a 2D NumPy array as shown in the following cells."
   ]
  },
  {
   "cell_type": "markdown",
   "id": "c229b9c3",
   "metadata": {
    "slideshow": {
     "slide_type": "fragment"
    }
   },
   "source": [
    "## Setup"
   ]
  },
  {
   "cell_type": "code",
   "execution_count": 1,
   "id": "29cf9f97",
   "metadata": {
    "slideshow": {
     "slide_type": "fragment"
    }
   },
   "outputs": [
    {
     "data": {
      "text/plain": [
       "True"
      ]
     },
     "execution_count": 1,
     "metadata": {},
     "output_type": "execute_result"
    }
   ],
   "source": [
    "import sys\n",
    "# Python 3.7 is required\n",
    "assert sys.version_info >= (3,7)\n",
    "\n",
    "import cv2 as cv\n",
    "import numpy as np\n",
    "\n",
    "# For reproducibility,\n",
    "np.random.seed(99)\n",
    "\n",
    "# Make sure that optimization is enabled\n",
    "if not cv.useOptimized():\n",
    "    cv.setUseOptimized(True)\n",
    "\n",
    "cv.useOptimized()"
   ]
  },
  {
   "cell_type": "code",
   "execution_count": 15,
   "id": "7de99b3c",
   "metadata": {
    "slideshow": {
     "slide_type": "slide"
    }
   },
   "outputs": [
    {
     "name": "stdout",
     "output_type": "stream",
     "text": [
      "[[0 0 0]\n",
      " [0 0 0]\n",
      " [0 0 0]]\n"
     ]
    }
   ],
   "source": [
    "img = np.zeros((3, 3), dtype = np.uint8)\n",
    "print(img)"
   ]
  },
  {
   "cell_type": "markdown",
   "id": "c7c0f81e",
   "metadata": {
    "slideshow": {
     "slide_type": "fragment"
    }
   },
   "source": [
    "Here, each pixel is represented by a single 8-bit integer, which means that the values for each pixel are in 0-255 range, where 0 is black, 255 is white and the in-between values are shades of gray. This is a **grayscale** image. You can use `cv.cvtColor()` to convert the images from one color spaces to another. We will discuss about image color spaces later."
   ]
  },
  {
   "cell_type": "code",
   "execution_count": 16,
   "id": "396daba6",
   "metadata": {
    "slideshow": {
     "slide_type": "fragment"
    }
   },
   "outputs": [
    {
     "name": "stdout",
     "output_type": "stream",
     "text": [
      "[[[0 0 0]\n",
      "  [0 0 0]\n",
      "  [0 0 0]]\n",
      "\n",
      " [[0 0 0]\n",
      "  [0 0 0]\n",
      "  [0 0 0]]\n",
      "\n",
      " [[0 0 0]\n",
      "  [0 0 0]\n",
      "  [0 0 0]]]\n"
     ]
    }
   ],
   "source": [
    "img_rgb = cv.cvtColor(img, cv.COLOR_GRAY2BGR)\n",
    "print(img_rgb)"
   ]
  },
  {
   "cell_type": "markdown",
   "id": "bf109382",
   "metadata": {
    "slideshow": {
     "slide_type": "slide"
    }
   },
   "source": [
    "As you can see now, each pixel is now represented by a three-element array, with each integer representing one of the 3 color channels: B, G and R respectively. "
   ]
  },
  {
   "cell_type": "code",
   "execution_count": 17,
   "id": "27e08799",
   "metadata": {
    "slideshow": {
     "slide_type": "subslide"
    }
   },
   "outputs": [
    {
     "name": "stdout",
     "output_type": "stream",
     "text": [
      "(3, 3, 3)\n"
     ]
    }
   ],
   "source": [
    "# You can always check the shape of an image\n",
    "print(img_rgb.shape)"
   ]
  },
  {
   "cell_type": "markdown",
   "id": "a4c4614c",
   "metadata": {
    "slideshow": {
     "slide_type": "slide"
    }
   },
   "source": [
    "## Import different formats of images\n",
    "There are a wide variety of image file types out there. In this tutorial, we will just cover a few common image formats, which include:\n",
    "1. TIFF(.tif): lossless image files, allowing for high quality images but larger file sizes. Best for high quality prints.\n",
    "2. Bitmap (.bmp): Bitmap images are created by arranging a grid of differently colored pixels. Creating crisp and highly detailed images requires great deal of computing space. Due to its proprietary nature, it is rarely supported in web browsers. \n",
    "3. JPEG (.jpg): image is compressed to make a smaller file. JPEG files are very common on the internet. \n",
    "4. GIF (.gif): Good choice for simple images and animations. Supports up to 256 colors, allow for transparency and can be animated. \n",
    "5. PNG (.png): lossless - compression without loss of quality. PNG is preferred over JPEG for more precise reproduction of source images. Can handle up to 16 million colors, unlike 256 colors supported by GIF.\n",
    "\n",
    "## Read an image\n",
    "Lets try to read all the images into the workspace.\n",
    "\n",
    "Before that, lets examine `imread()` function:\n",
    "```python\n",
    "cv.imread(filename, flag)\n",
    "```\n",
    "It takes two arguments:\n",
    "1. The first argument is the image file name (Note: specify the whole path if the image is not in the same directory as the work path).\n",
    "2. The second argument is optional flag that allows you to specify how image should be represented:\n",
    "    - cv.IMREAD_UNCHANGED or -1 \n",
    "    - cv.IMREAD_GRAYSCALE or 0 \n",
    "    - cv.IMREAD_COLOR or 1 (default)\n",
    "    \n",
    "More flags argument for `cv.imread()`, please refer to the [online documentation](https://docs.opencv.org/4.x/d8/d6a/group__imgcodecs__flags.html#ga61d9b0126a3e57d9277ac48327799c80)"
   ]
  },
  {
   "cell_type": "markdown",
   "id": "52629fca",
   "metadata": {
    "slideshow": {
     "slide_type": "slide"
    }
   },
   "source": [
    "## Display an image\n",
    "You can display image using `imshow()` function:\n",
    "```python\n",
    "cv.imshow(window_name, image)\n",
    "```\n",
    "This function again takes 2 arguments:\n",
    "1. First argument is the window name that will be displayed.\n",
    "2. Second argument is the image.\n",
    "\n",
    "To display multiple images at once, you need to <mark>call this function multiple times.</mark>\n",
    "\n",
    "The `cv.imshow()` function is designed to used alongside `cv.waitKey()` and `cv.destroyAllWindows()` or `cv.destroyWindow()` functions. \n",
    "\n",
    "The `waitKey()` function is a keyboard-binding function. It takes a single argument, which is the time (miliseconds). If the user presses any key within this period, the program continues. If 0 is passed, the program waits indefinitely for a keystroke. You can set the function to detect a specific keystroke like Esc key or any alphabet.\n",
    "\n",
    "The function `destroyAllWindows()` destroys all windows we created. If a specific window needs to be destroyed, give that exact window name as the argument.\n",
    "\n",
    "JPEG/JFIF is the currently most popular format for storing and transmitting photographic images on the internet. Sometimes Windows 10 saves JPG files as JFIF files. The image file would remain identical in terms of its quality, compression and structure."
   ]
  },
  {
   "cell_type": "code",
   "execution_count": 18,
   "id": "5fd6d9e0",
   "metadata": {
    "slideshow": {
     "slide_type": "slide"
    }
   },
   "outputs": [],
   "source": [
    "img = cv.imread('lena.jfif')    # default bgr \n",
    "img_grayscale = cv.imread('lena.jfif', 0)    # grayscale\n",
    "\n",
    "cv.imshow('original',img)\n",
    "cv.imshow('gray', img_grayscale)\n",
    "cv.waitKey(0)\n",
    "cv.destroyAllWindows()"
   ]
  },
  {
   "cell_type": "markdown",
   "id": "b614d7d2",
   "metadata": {
    "slideshow": {
     "slide_type": "fragment"
    }
   },
   "source": [
    "Lets work with different image formats"
   ]
  },
  {
   "cell_type": "code",
   "execution_count": 19,
   "id": "e819f053",
   "metadata": {
    "slideshow": {
     "slide_type": "fragment"
    }
   },
   "outputs": [],
   "source": [
    "# TIFF\n",
    "img = cv.imread('lena.tif')\n",
    "cv.imshow('TIFF image', img)\n",
    "cv.waitKey(0)\n",
    "cv.destroyAllWindows()"
   ]
  },
  {
   "cell_type": "code",
   "execution_count": 20,
   "id": "ebfe68b3",
   "metadata": {
    "slideshow": {
     "slide_type": "fragment"
    }
   },
   "outputs": [],
   "source": [
    "# Bitmap\n",
    "img = cv.imread('lena.bmp')\n",
    "cv.imshow('Bitmap image', img)\n",
    "cv.waitKey(0)\n",
    "cv.destroyAllWindows()"
   ]
  },
  {
   "cell_type": "code",
   "execution_count": 21,
   "id": "7366f1df",
   "metadata": {
    "slideshow": {
     "slide_type": "slide"
    }
   },
   "outputs": [],
   "source": [
    "# JPEG\n",
    "img = cv.imread('lena.jpg')\n",
    "cv.imshow('JPEG image', img)\n",
    "cv.waitKey(0)\n",
    "cv.destroyAllWindows()"
   ]
  },
  {
   "cell_type": "markdown",
   "id": "a7814fff",
   "metadata": {
    "slideshow": {
     "slide_type": "fragment"
    }
   },
   "source": [
    "**Warning**  \n",
    "You will run into execution error if you use `cv.imread` on GIF file. The workaround is we need to load the gif to `numpy.ndarray` and change the channel orders. You can refer to this [stackoverflow post](https://stackoverflow.com/questions/48163539/how-to-read-gif-from-url-using-opencv-python) for more info."
   ]
  },
  {
   "cell_type": "code",
   "execution_count": 2,
   "id": "0de90e1f",
   "metadata": {
    "slideshow": {
     "slide_type": "fragment"
    }
   },
   "outputs": [],
   "source": [
    "import imageio"
   ]
  },
  {
   "cell_type": "code",
   "execution_count": 3,
   "id": "7e3888fe",
   "metadata": {
    "slideshow": {
     "slide_type": "fragment"
    }
   },
   "outputs": [],
   "source": [
    "gif = imageio.mimread('lena.gif')\n",
    "# Convert from RGB to BGR format\n",
    "imgs = [cv.cvtColor(img, cv.COLOR_RGB2BGR) for img in gif]\n",
    "cv.imshow('GIF image', imgs[0])\n",
    "cv.waitKey(0)\n",
    "cv.destroyAllWindows()"
   ]
  },
  {
   "cell_type": "code",
   "execution_count": 5,
   "id": "159f5ee8",
   "metadata": {},
   "outputs": [
    {
     "data": {
      "text/plain": [
       "1"
      ]
     },
     "execution_count": 5,
     "metadata": {},
     "output_type": "execute_result"
    }
   ],
   "source": [
    "len(gif)"
   ]
  },
  {
   "cell_type": "code",
   "execution_count": 24,
   "id": "41eada7e",
   "metadata": {
    "slideshow": {
     "slide_type": "slide"
    }
   },
   "outputs": [],
   "source": [
    "# PNG\n",
    "img = cv.imread('lena.png')\n",
    "cv.imshow('PNG image', img)\n",
    "cv.waitKey(0)\n",
    "cv.destroyAllWindows()"
   ]
  },
  {
   "cell_type": "markdown",
   "id": "00cda557",
   "metadata": {
    "slideshow": {
     "slide_type": "slide"
    }
   },
   "source": [
    "## Writing an image\n",
    "Let's discuss how to write/save an image into the file directory. The function is `cv.imwrite()`:\n",
    "```python\n",
    "imwrite(filename, image)\n",
    "```\n",
    "1. First argument is the filename (Must include the extension, like .png, .jpg, .bmp).\n",
    "2. Second argument is the image you want to save."
   ]
  },
  {
   "cell_type": "code",
   "execution_count": 25,
   "id": "b8df00a6",
   "metadata": {
    "slideshow": {
     "slide_type": "fragment"
    }
   },
   "outputs": [
    {
     "data": {
      "text/plain": [
       "True"
      ]
     },
     "execution_count": 25,
     "metadata": {},
     "output_type": "execute_result"
    }
   ],
   "source": [
    "cv.imwrite('lena_save.jpg', img)"
   ]
  },
  {
   "cell_type": "markdown",
   "id": "e0fef658",
   "metadata": {
    "slideshow": {
     "slide_type": "slide"
    }
   },
   "source": [
    "### Exercises\n",
    "4. Load and display the image 'dog.jfif'. Save the image in .png format."
   ]
  },
  {
   "cell_type": "markdown",
   "id": "d3aa985f",
   "metadata": {
    "slideshow": {
     "slide_type": "slide"
    }
   },
   "source": [
    "## Deals with Video using OpenCV\n",
    "\n",
    "A video is nothing but a series of images that are often referred to as frames. So, all you need to do is loop over all the frames in sequence, and then process one frame at a time.\n",
    "\n",
    "### Read and display video from file\n",
    "Use `cv.VideoCapture()` class to invoke a VideoCapture object, which is useful to read video file.\n",
    "```python\n",
    "cv.VideoCapture(path, apiPreference)\n",
    "```\n",
    "1. First argument is the path to the video file. Input zero for webcam capture.\n",
    "2. Second argument is API preference (optional)\n",
    "\n",
    "Furthermore, there are some methods related to VideoCapture object that are worth mentioning:\n",
    "* `isOpened()` method returns a boolean indicating whether a video file is opened successfully. \n",
    "* `get()` method retrive metadata associated with the video. It takes one argument (enumerator). `get(3)` --> width of frame, `get(4)` --> height of frame, `get(5)` --> frame rate. More info, please refer to this [online documentation](https://docs.opencv.org/4.x/d4/d15/group__videoio__flags__base.html)\n",
    "\n",
    "How to read image frame from the file? Create a loop and read one frame at a time from the video stream using `read()` method. It returns a tuple, where the first element is a boolean and the second argument is the video frame. \n",
    "\n",
    "### Save videos\n",
    "In order to save a video file, you first need to create a video writer object from `cv.VideoWriter()` class. Syntax for `cv.VideoWriter()`:\n",
    "```python\n",
    "cv.VideoWriter(filename, fourcc, fps, framesize, isColor)\n",
    "```\n",
    "1. First argument is pathname for output file\n",
    "2. fourcc: 4-character code of codec. Fourcc is a 32 bit (4 byte) ASCII Character code used to uniquely identifies video formats. Below are the video codecs which corresponds to .avi video.\n",
    "    - `cv.VideoWriter_fourcc('M', 'J', 'P', 'G')` \n",
    "    - `cv.VideoWriter_fourcc(*'XVID')` \n",
    "    - For MP4 video, use `cv.VideoWriter_fourcc(*'MP4V')`\n",
    "3. fps: frame rate of the video stream\n",
    "4. frame_size: (width, height) of frame\n",
    "5. isColor: if not zero (default: `True`), the encoder will encode color frames."
   ]
  },
  {
   "cell_type": "code",
   "execution_count": 26,
   "id": "3a091549",
   "metadata": {
    "slideshow": {
     "slide_type": "slide"
    }
   },
   "outputs": [],
   "source": [
    "# Create a VideoCapture object\n",
    "cap = cv.VideoCapture('img_pexels.mp4')\n",
    "\n",
    "# Check if the object has been created successfully\n",
    "if not cap.isOpened():\n",
    "    print(\"Unable to create video\")\n",
    "\n",
    "# Read until the video is completed.\n",
    "while cap.isOpened():\n",
    "    ret, frame = cap.read()\n",
    "    \n",
    "    # if frame is read then ret is True\n",
    "    if not ret:\n",
    "        print(\"Can't receive frame.\")\n",
    "        break\n",
    "    \n",
    "    cv.imshow('frame', frame)\n",
    "    # Press Esc key to exit (27 is ASCII code for Esc). cv.waitKey() returns 32 bit integer values. You can find the ASCII table\n",
    "    # on this URL: https://theasciicode.com.ar/\n",
    "    if cv.waitKey(1) & 0xFF == 27:\n",
    "        break\n",
    "\n",
    "# destroy the constructor\n",
    "cap.release()\n",
    "cv.destroyAllWindows()"
   ]
  },
  {
   "cell_type": "code",
   "execution_count": 8,
   "id": "fb10cc08",
   "metadata": {},
   "outputs": [
    {
     "name": "stdout",
     "output_type": "stream",
     "text": [
      "255\n"
     ]
    }
   ],
   "source": [
    "key = cv.waitKey(1) & 0xFF\n",
    "print(key)"
   ]
  },
  {
   "cell_type": "markdown",
   "id": "340f19c6",
   "metadata": {
    "slideshow": {
     "slide_type": "slide"
    }
   },
   "source": [
    "## Video using webcam"
   ]
  },
  {
   "cell_type": "code",
   "execution_count": 27,
   "id": "4c8257b2",
   "metadata": {
    "slideshow": {
     "slide_type": "fragment"
    }
   },
   "outputs": [],
   "source": [
    "cap = cv.VideoCapture(0)\n",
    "\n",
    "width = int(cap.get(3))\n",
    "height = int(cap.get(4))\n",
    "# Define the codec and create VideoWriter object\n",
    "fourcc = cv.VideoWriter_fourcc('M', 'J', 'P', 'G')\n",
    "fps = 20\n",
    "out = cv.VideoWriter('out.avi', fourcc, fps, (width, height))\n",
    "\n",
    "while cap.isOpened():\n",
    "    ret, frame = cap.read()\n",
    "    if not ret:\n",
    "        print(\"Can't receive frame (streaming end)\")\n",
    "        break\n",
    "    # Horizontal flip (left and right)\n",
    "    frame = cv.flip(frame, 1)\n",
    "    # write the flipped frame\n",
    "    out.write(frame)\n",
    "    \n",
    "    cv.imshow('frame', frame)\n",
    "    if cv.waitKey(1) & 0xFF == 27:\n",
    "        break\n",
    "\n",
    "# Release everything if job is finished\n",
    "cap.release()\n",
    "out.release()\n",
    "cv.destroyAllWindows()"
   ]
  },
  {
   "cell_type": "markdown",
   "id": "de2a545d",
   "metadata": {
    "slideshow": {
     "slide_type": "fragment"
    }
   },
   "source": [
    "The arguments to the constructor of the VideoWriter class deserve special attention. A video's filename must be specified. Any preexisting file with this name is overwritten. A video codec must also be specified. The available codecs may vary from system to system. "
   ]
  },
  {
   "cell_type": "markdown",
   "id": "4c59bf34",
   "metadata": {
    "slideshow": {
     "slide_type": "slide"
    }
   },
   "source": [
    "## Basic operations on images\n",
    "\n",
    "A good knowledge of Numpy is required to write better optimized code with OpenCV. One thing to keep in mind is image are stored as 3D Numpy array."
   ]
  },
  {
   "cell_type": "code",
   "execution_count": 28,
   "id": "e1058dc0",
   "metadata": {
    "slideshow": {
     "slide_type": "fragment"
    }
   },
   "outputs": [
    {
     "name": "stdout",
     "output_type": "stream",
     "text": [
      "206 ns ± 9.83 ns per loop (mean ± std. dev. of 7 runs, 1000000 loops each)\n",
      "109 ns ± 5.04 ns per loop (mean ± std. dev. of 7 runs, 10000000 loops each)\n"
     ]
    }
   ],
   "source": [
    "# access pixels\n",
    "img = cv.imread('lena.jpg')\n",
    "\n",
    "%timeit a = img[20, 50, 0]\n",
    "%timeit b = img.item(20,50,0)"
   ]
  },
  {
   "cell_type": "markdown",
   "id": "6d0cdd0e",
   "metadata": {},
   "source": [
    "## Python scalar vs Numpy scalar"
   ]
  },
  {
   "cell_type": "code",
   "execution_count": 18,
   "id": "4681c4ac",
   "metadata": {
    "slideshow": {
     "slide_type": "fragment"
    }
   },
   "outputs": [
    {
     "name": "stdout",
     "output_type": "stream",
     "text": [
      "300 ns ± 14.6 ns per loop (mean ± std. dev. of 7 runs, 1000000 loops each)\n",
      "91.8 ns ± 2.66 ns per loop (mean ± std. dev. of 7 runs, 10000000 loops each)\n"
     ]
    }
   ],
   "source": [
    "x = 4\n",
    "\n",
    "%timeit y = x**2\n",
    "%timeit y = x*x"
   ]
  },
  {
   "cell_type": "code",
   "execution_count": 19,
   "id": "b8c6b394",
   "metadata": {},
   "outputs": [
    {
     "name": "stdout",
     "output_type": "stream",
     "text": [
      "853 ns ± 5.97 ns per loop (mean ± std. dev. of 7 runs, 1000000 loops each)\n",
      "804 ns ± 2.79 ns per loop (mean ± std. dev. of 7 runs, 1000000 loops each)\n"
     ]
    }
   ],
   "source": [
    "y = np.uint8([4])\n",
    "\n",
    "%timeit z = y*y\n",
    "%timeit z = np.square(y)"
   ]
  },
  {
   "cell_type": "markdown",
   "id": "b488fd40",
   "metadata": {},
   "source": [
    "The takeaway here are:\n",
    "1. Python scalar operations are faster that Numpy scalar operations. Numpy has the advantage when the size of array is bigger.\n",
    "\n",
    "Aside from the `%timeit` command shown above, OpenCV function like `cv.getTickFrequency` is also capable of capturing the time of execution. Example are shown as below:\n",
    "```python\n",
    "e1 = cv.getTickCount()\n",
    "# your code\n",
    "e2 = cv.getTickCount()\n",
    "time = (e2-e1)/cv.getTickFrequency()\n",
    "```\n",
    "\n",
    "## Numpy array slicing\n",
    "We pass slice like this: `[start:end]` or `[start:end:step]`. We need to get used to slicing 2D and 3D array."
   ]
  },
  {
   "cell_type": "markdown",
   "id": "e7bd033c",
   "metadata": {
    "slideshow": {
     "slide_type": "slide"
    }
   },
   "source": [
    "### Exercise\n",
    "5. Extract the region of interest (flower) from the 'flower.jfif'."
   ]
  },
  {
   "cell_type": "markdown",
   "id": "52e8edc4",
   "metadata": {
    "slideshow": {
     "slide_type": "slide"
    }
   },
   "source": [
    "## Image resizing\n",
    "To resize an image, scale it along each axis (height and width), considering the specified _scale factors_ or set the _desired height and width_.\n",
    "\n",
    "When resizing an image:\n",
    "- It is important to be mindful of the original aspect ratio of the image.\n",
    "- Reducing the size of image requires resampling of pixels.\n",
    "- Enlarging requires reconstruction through interpolation. Common interpolation are available in OpenCV:\n",
    "    * INTER_NEAREST: nearest neighbor interpolation.\n",
    "    * INTER_LINEAR: bilinear interpolation.\n",
    "    * INTER_CUBIC: bicubic interpolation (generally slower).\n",
    "More info can be found in OpenCV [online documentation](https://docs.opencv.org/4.x/da/d54/group__imgproc__transform.html#ga5bb5a1fea74ea38e1a5445ca803ff121)\n",
    "\n",
    "The function for image resizing is `cv.resize()`:\n",
    "```python\n",
    "cv.resize(src, dsize, fx, fy, interpolation)\n",
    "```\n",
    "1. First argument is the input image.\n",
    "2. dsize: the desired output image dimension.\n",
    "3. fx: scale factor along horizontal axis (width).\n",
    "4. fy: scale factor along vertical axis (height).\n",
    "5. interpolation: option flags stated above.\n",
    "\n",
    "### Example 1: Specify specific output dimension"
   ]
  },
  {
   "cell_type": "code",
   "execution_count": 34,
   "id": "2e86948a",
   "metadata": {
    "slideshow": {
     "slide_type": "fragment"
    }
   },
   "outputs": [],
   "source": [
    "img = cv.imread('soccer.jpg')\n",
    "new_width = 300\n",
    "new_height = 450\n",
    "img_resize = cv.resize(img, (new_width, new_height), interpolation = cv.INTER_LINEAR)\n",
    "\n",
    "cv.imshow('downsize', img_resize)\n",
    "cv.waitKey(0)\n",
    "cv.destroyAllWindows()"
   ]
  },
  {
   "cell_type": "markdown",
   "id": "461e1a80",
   "metadata": {
    "slideshow": {
     "slide_type": "slide"
    }
   },
   "source": [
    "### Example 2: Resizing with a scaling factor\n",
    "The advantage of using scaling factor for resizing is that it keeps the aspect ratio intact and preserve the display quality."
   ]
  },
  {
   "cell_type": "code",
   "execution_count": 35,
   "id": "eaac7bc3",
   "metadata": {
    "slideshow": {
     "slide_type": "fragment"
    }
   },
   "outputs": [],
   "source": [
    "img = cv.imread('lena.jfif')\n",
    "img_resize = cv.resize(img, None, fx = 1.5, fy = 1.5, interpolation = cv.INTER_LINEAR)\n",
    "\n",
    "cv.imshow('upsize', img_resize)\n",
    "cv.waitKey(0)\n",
    "cv.destroyAllWindows()"
   ]
  },
  {
   "cell_type": "markdown",
   "id": "da945ac0",
   "metadata": {
    "slideshow": {
     "slide_type": "fragment"
    }
   },
   "source": [
    "### Exercise\n",
    "6. Enlarge the image \"dog.jfif\" by using different techniques: 1) Linear interpolation, 2) Cubic interpolation and 3) nearest neighbor interpolation. Comment on the upscaled of all the outputs."
   ]
  },
  {
   "cell_type": "markdown",
   "id": "9180e221",
   "metadata": {
    "slideshow": {
     "slide_type": "slide"
    }
   },
   "source": [
    "## Weekly activity\n",
    "1. _Suggest two ways and write codes to display two images simultaneously_. You can use any image snapped from your handphone,  downloaded from internet or images from week 4 materials on MS teams. The two images are a color image and its corresponding grayscale image. \n",
    "2. Write codes that performs the following:\n",
    "    - Load the video “img_pexels.mp4” into the Python environment, *resize* it and display the videos with smaller frames (The frames can be of any size, as long as it is smaller). You can specify an arbitrary frame rate.\n",
    "    - Save it as a separate files: “smaller_img_pexels.avi” or \"smaller_img_pexels.mp4\"\n",
    "3. Create a **random noise color and grayscale** image. You can set a custom width and height. (Hint: use Numpy functions like `np.array` and `np.reshape`.)\n",
    "4. Extract the region of interest (flower) from the 'flower.jfif'.\n",
    "5. Enlarge the image \"dog.jfif\" by using different techniques: 1) Linear interpolation, 2) Cubic interpolation and 3) nearest neighbor interpolation. Comment on the upscaled of all the outputs."
   ]
  },
  {
   "cell_type": "code",
   "execution_count": null,
   "id": "7502869c",
   "metadata": {},
   "outputs": [],
   "source": []
  }
 ],
 "metadata": {
  "kernelspec": {
   "display_name": "Python 3 (ipykernel)",
   "language": "python",
   "name": "python3"
  },
  "language_info": {
   "codemirror_mode": {
    "name": "ipython",
    "version": 3
   },
   "file_extension": ".py",
   "mimetype": "text/x-python",
   "name": "python",
   "nbconvert_exporter": "python",
   "pygments_lexer": "ipython3",
   "version": "3.9.12"
  }
 },
 "nbformat": 4,
 "nbformat_minor": 5
}
